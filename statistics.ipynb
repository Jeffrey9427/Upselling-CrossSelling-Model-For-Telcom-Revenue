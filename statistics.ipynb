{
 "cells": [
  {
   "cell_type": "code",
   "execution_count": 50,
   "metadata": {},
   "outputs": [],
   "source": [
    "import pandas as pd\n",
    "import numpy as np\n",
    "import matplotlib.pyplot as plt\n",
    "import seaborn as sns  \n",
    "import statsmodels.stats.proportion as sp\n",
    "from scipy import stats\n",
    "from scipy.stats import pearsonr"
   ]
  },
  {
   "cell_type": "code",
   "execution_count": 2,
   "metadata": {},
   "outputs": [
    {
     "name": "stderr",
     "output_type": "stream",
     "text": [
      "/var/folders/8p/30y3pc9x2x5gq8qsq1lfw8480000gn/T/ipykernel_89229/2200081736.py:1: DtypeWarning: Columns (4,6,11,12,13) have mixed types. Specify dtype option on import or set low_memory=False.\n",
      "  df = pd.read_csv('cleaned_lumoshive_data.csv')\n"
     ]
    }
   ],
   "source": [
    "df = pd.read_csv('cleaned_lumoshive_data.csv')"
   ]
  },
  {
   "cell_type": "code",
   "execution_count": 3,
   "metadata": {},
   "outputs": [
    {
     "data": {
      "text/html": [
       "<div>\n",
       "<style scoped>\n",
       "    .dataframe tbody tr th:only-of-type {\n",
       "        vertical-align: middle;\n",
       "    }\n",
       "\n",
       "    .dataframe tbody tr th {\n",
       "        vertical-align: top;\n",
       "    }\n",
       "\n",
       "    .dataframe thead th {\n",
       "        text-align: right;\n",
       "    }\n",
       "</style>\n",
       "<table border=\"1\" class=\"dataframe\">\n",
       "  <thead>\n",
       "    <tr style=\"text-align: right;\">\n",
       "      <th></th>\n",
       "      <th>id</th>\n",
       "      <th>created_at</th>\n",
       "      <th>country</th>\n",
       "      <th>operator</th>\n",
       "      <th>service</th>\n",
       "      <th>source</th>\n",
       "      <th>msisdn</th>\n",
       "      <th>status</th>\n",
       "      <th>cycle</th>\n",
       "      <th>adnet</th>\n",
       "      <th>...</th>\n",
       "      <th>service_price</th>\n",
       "      <th>currency</th>\n",
       "      <th>profile_status</th>\n",
       "      <th>publisher</th>\n",
       "      <th>trxid</th>\n",
       "      <th>pixel</th>\n",
       "      <th>handset</th>\n",
       "      <th>browser</th>\n",
       "      <th>attempt_charging</th>\n",
       "      <th>success_billing</th>\n",
       "    </tr>\n",
       "  </thead>\n",
       "  <tbody>\n",
       "    <tr>\n",
       "      <th>0</th>\n",
       "      <td>302164</td>\n",
       "      <td>2023-09-13 09:47:57</td>\n",
       "      <td>thailand</td>\n",
       "      <td>ais</td>\n",
       "      <td>459505104</td>\n",
       "      <td>sms</td>\n",
       "      <td>66988602911</td>\n",
       "      <td>not found</td>\n",
       "      <td>daily</td>\n",
       "      <td>not found</td>\n",
       "      <td>...</td>\n",
       "      <td>6.0</td>\n",
       "      <td>bath</td>\n",
       "      <td>active</td>\n",
       "      <td>not found</td>\n",
       "      <td>2.02309130707494e+19</td>\n",
       "      <td>not found</td>\n",
       "      <td>not found</td>\n",
       "      <td>not found</td>\n",
       "      <td>15</td>\n",
       "      <td>0</td>\n",
       "    </tr>\n",
       "    <tr>\n",
       "      <th>1</th>\n",
       "      <td>3521</td>\n",
       "      <td>2023-09-13 09:21:13</td>\n",
       "      <td>thailand</td>\n",
       "      <td>ais</td>\n",
       "      <td>459505104</td>\n",
       "      <td>sms</td>\n",
       "      <td>66822243080</td>\n",
       "      <td>not found</td>\n",
       "      <td>daily</td>\n",
       "      <td>not found</td>\n",
       "      <td>...</td>\n",
       "      <td>6.0</td>\n",
       "      <td>bath</td>\n",
       "      <td>active</td>\n",
       "      <td>not found</td>\n",
       "      <td>2.02309130707243e+19</td>\n",
       "      <td>not found</td>\n",
       "      <td>not found</td>\n",
       "      <td>not found</td>\n",
       "      <td>15</td>\n",
       "      <td>0</td>\n",
       "    </tr>\n",
       "    <tr>\n",
       "      <th>2</th>\n",
       "      <td>1</td>\n",
       "      <td>2023-09-13 09:20:20</td>\n",
       "      <td>thailand</td>\n",
       "      <td>ais</td>\n",
       "      <td>459505106</td>\n",
       "      <td>ivr</td>\n",
       "      <td>666131</td>\n",
       "      <td>not found</td>\n",
       "      <td>not found</td>\n",
       "      <td>not found</td>\n",
       "      <td>...</td>\n",
       "      <td>6.0</td>\n",
       "      <td>bath</td>\n",
       "      <td>active</td>\n",
       "      <td>not found</td>\n",
       "      <td>2.02308251402057e+19</td>\n",
       "      <td>not found</td>\n",
       "      <td>not found</td>\n",
       "      <td>not found</td>\n",
       "      <td>1</td>\n",
       "      <td>1</td>\n",
       "    </tr>\n",
       "    <tr>\n",
       "      <th>3</th>\n",
       "      <td>4999335</td>\n",
       "      <td>2023-09-13 14:00:22</td>\n",
       "      <td>thailand</td>\n",
       "      <td>ais</td>\n",
       "      <td>459505105</td>\n",
       "      <td>wap</td>\n",
       "      <td>66650020857</td>\n",
       "      <td>not found</td>\n",
       "      <td>daily</td>\n",
       "      <td>star</td>\n",
       "      <td>...</td>\n",
       "      <td>6.0</td>\n",
       "      <td>bath</td>\n",
       "      <td>active</td>\n",
       "      <td>star</td>\n",
       "      <td>2.02309130710521e+19</td>\n",
       "      <td>star</td>\n",
       "      <td>not found</td>\n",
       "      <td>not found</td>\n",
       "      <td>5</td>\n",
       "      <td>0</td>\n",
       "    </tr>\n",
       "    <tr>\n",
       "      <th>4</th>\n",
       "      <td>273196</td>\n",
       "      <td>2023-09-13 09:45:33</td>\n",
       "      <td>thailand</td>\n",
       "      <td>ais</td>\n",
       "      <td>459505104</td>\n",
       "      <td>sms</td>\n",
       "      <td>66635959286</td>\n",
       "      <td>not found</td>\n",
       "      <td>daily</td>\n",
       "      <td>not found</td>\n",
       "      <td>...</td>\n",
       "      <td>6.0</td>\n",
       "      <td>bath</td>\n",
       "      <td>active</td>\n",
       "      <td>not found</td>\n",
       "      <td>2.02309130701156e+19</td>\n",
       "      <td>not found</td>\n",
       "      <td>not found</td>\n",
       "      <td>not found</td>\n",
       "      <td>15</td>\n",
       "      <td>0</td>\n",
       "    </tr>\n",
       "  </tbody>\n",
       "</table>\n",
       "<p>5 rows × 26 columns</p>\n",
       "</div>"
      ],
      "text/plain": [
       "        id           created_at   country operator    service source  \\\n",
       "0   302164  2023-09-13 09:47:57  thailand      ais  459505104    sms   \n",
       "1     3521  2023-09-13 09:21:13  thailand      ais  459505104    sms   \n",
       "2        1  2023-09-13 09:20:20  thailand      ais  459505106    ivr   \n",
       "3  4999335  2023-09-13 14:00:22  thailand      ais  459505105    wap   \n",
       "4   273196  2023-09-13 09:45:33  thailand      ais  459505104    sms   \n",
       "\n",
       "        msisdn     status      cycle      adnet  ...  service_price currency  \\\n",
       "0  66988602911  not found      daily  not found  ...            6.0     bath   \n",
       "1  66822243080  not found      daily  not found  ...            6.0     bath   \n",
       "2       666131  not found  not found  not found  ...            6.0     bath   \n",
       "3  66650020857  not found      daily       star  ...            6.0     bath   \n",
       "4  66635959286  not found      daily  not found  ...            6.0     bath   \n",
       "\n",
       "  profile_status  publisher                 trxid      pixel    handset  \\\n",
       "0         active  not found  2.02309130707494e+19  not found  not found   \n",
       "1         active  not found  2.02309130707243e+19  not found  not found   \n",
       "2         active  not found  2.02308251402057e+19  not found  not found   \n",
       "3         active       star  2.02309130710521e+19       star  not found   \n",
       "4         active  not found  2.02309130701156e+19  not found  not found   \n",
       "\n",
       "     browser attempt_charging success_billing  \n",
       "0  not found               15               0  \n",
       "1  not found               15               0  \n",
       "2  not found                1               1  \n",
       "3  not found                5               0  \n",
       "4  not found               15               0  \n",
       "\n",
       "[5 rows x 26 columns]"
      ]
     },
     "execution_count": 3,
     "metadata": {},
     "output_type": "execute_result"
    }
   ],
   "source": [
    "df.head()"
   ]
  },
  {
   "cell_type": "code",
   "execution_count": 75,
   "metadata": {},
   "outputs": [
    {
     "data": {
      "text/html": [
       "<div>\n",
       "<style scoped>\n",
       "    .dataframe tbody tr th:only-of-type {\n",
       "        vertical-align: middle;\n",
       "    }\n",
       "\n",
       "    .dataframe tbody tr th {\n",
       "        vertical-align: top;\n",
       "    }\n",
       "\n",
       "    .dataframe thead th {\n",
       "        text-align: right;\n",
       "    }\n",
       "</style>\n",
       "<table border=\"1\" class=\"dataframe\">\n",
       "  <thead>\n",
       "    <tr style=\"text-align: right;\">\n",
       "      <th></th>\n",
       "      <th>id</th>\n",
       "      <th>revenue</th>\n",
       "      <th>service_price</th>\n",
       "      <th>attempt_charging</th>\n",
       "      <th>success_billing</th>\n",
       "    </tr>\n",
       "  </thead>\n",
       "  <tbody>\n",
       "    <tr>\n",
       "      <th>count</th>\n",
       "      <td>3.656140e+05</td>\n",
       "      <td>365614.000000</td>\n",
       "      <td>365614.000000</td>\n",
       "      <td>365614.000000</td>\n",
       "      <td>365614.000000</td>\n",
       "    </tr>\n",
       "    <tr>\n",
       "      <th>mean</th>\n",
       "      <td>9.870090e+05</td>\n",
       "      <td>4351.895797</td>\n",
       "      <td>156.533388</td>\n",
       "      <td>21.520035</td>\n",
       "      <td>3.107988</td>\n",
       "    </tr>\n",
       "    <tr>\n",
       "      <th>std</th>\n",
       "      <td>4.171706e+06</td>\n",
       "      <td>15080.080037</td>\n",
       "      <td>770.647277</td>\n",
       "      <td>36.390434</td>\n",
       "      <td>12.170820</td>\n",
       "    </tr>\n",
       "    <tr>\n",
       "      <th>min</th>\n",
       "      <td>1.000000e+00</td>\n",
       "      <td>0.000000</td>\n",
       "      <td>0.000000</td>\n",
       "      <td>0.000000</td>\n",
       "      <td>0.000000</td>\n",
       "    </tr>\n",
       "    <tr>\n",
       "      <th>25%</th>\n",
       "      <td>6.365700e+04</td>\n",
       "      <td>0.000000</td>\n",
       "      <td>6.000000</td>\n",
       "      <td>1.000000</td>\n",
       "      <td>0.000000</td>\n",
       "    </tr>\n",
       "    <tr>\n",
       "      <th>50%</th>\n",
       "      <td>1.926345e+05</td>\n",
       "      <td>0.000000</td>\n",
       "      <td>6.000000</td>\n",
       "      <td>15.000000</td>\n",
       "      <td>0.000000</td>\n",
       "    </tr>\n",
       "    <tr>\n",
       "      <th>75%</th>\n",
       "      <td>3.603850e+05</td>\n",
       "      <td>300.000000</td>\n",
       "      <td>6.000000</td>\n",
       "      <td>26.000000</td>\n",
       "      <td>1.000000</td>\n",
       "    </tr>\n",
       "    <tr>\n",
       "      <th>max</th>\n",
       "      <td>6.008518e+07</td>\n",
       "      <td>506000.000000</td>\n",
       "      <td>10000.000000</td>\n",
       "      <td>4015.000000</td>\n",
       "      <td>1363.000000</td>\n",
       "    </tr>\n",
       "  </tbody>\n",
       "</table>\n",
       "</div>"
      ],
      "text/plain": [
       "                 id        revenue  service_price  attempt_charging  \\\n",
       "count  3.656140e+05  365614.000000  365614.000000     365614.000000   \n",
       "mean   9.870090e+05    4351.895797     156.533388         21.520035   \n",
       "std    4.171706e+06   15080.080037     770.647277         36.390434   \n",
       "min    1.000000e+00       0.000000       0.000000          0.000000   \n",
       "25%    6.365700e+04       0.000000       6.000000          1.000000   \n",
       "50%    1.926345e+05       0.000000       6.000000         15.000000   \n",
       "75%    3.603850e+05     300.000000       6.000000         26.000000   \n",
       "max    6.008518e+07  506000.000000   10000.000000       4015.000000   \n",
       "\n",
       "       success_billing  \n",
       "count    365614.000000  \n",
       "mean          3.107988  \n",
       "std          12.170820  \n",
       "min           0.000000  \n",
       "25%           0.000000  \n",
       "50%           0.000000  \n",
       "75%           1.000000  \n",
       "max        1363.000000  "
      ]
     },
     "execution_count": 75,
     "metadata": {},
     "output_type": "execute_result"
    }
   ],
   "source": [
    "df.describe()"
   ]
  },
  {
   "cell_type": "code",
   "execution_count": 4,
   "metadata": {},
   "outputs": [
    {
     "name": "stdout",
     "output_type": "stream",
     "text": [
      "              id           created_at   country   operator    service source  \\\n",
      "0         302164  2023-09-13 09:47:57  thailand        ais  459505104    sms   \n",
      "1           3521  2023-09-13 09:21:13  thailand        ais  459505104    sms   \n",
      "2              1  2023-09-13 09:20:20  thailand        ais  459505106    ivr   \n",
      "3        4999335  2023-09-13 14:00:22  thailand        ais  459505105    wap   \n",
      "4         273196  2023-09-13 09:45:33  thailand        ais  459505104    sms   \n",
      "...          ...                  ...       ...        ...        ...    ...   \n",
      "365609     97584            not found  thailand        ais  459509903    sms   \n",
      "365610    384166            not found  thailand        ais  459505105    wap   \n",
      "365611  27966473            not found  thailand  aisgemezz         ge    sms   \n",
      "365612    187009            not found  thailand        ais  459509903    sms   \n",
      "365613  27906860            not found  thailand  aisgemezz         ge    sms   \n",
      "\n",
      "             msisdn     status      cycle      adnet  ...  profile_status  \\\n",
      "0       66988602911  not found      daily  not found  ...          active   \n",
      "1       66822243080  not found      daily  not found  ...          active   \n",
      "2            666131  not found  not found  not found  ...          active   \n",
      "3       66650020857  not found      daily       star  ...          active   \n",
      "4       66635959286  not found      daily  not found  ...          active   \n",
      "...             ...        ...        ...        ...  ...             ...   \n",
      "365609  66808868699  not found      daily  not found  ...          active   \n",
      "365610  66615676784  not found      daily        mpl  ...          active   \n",
      "365611  66989754515  not found      daily        btm  ...          active   \n",
      "365612  66806582058  not found      daily  not found  ...          active   \n",
      "365613  66822874228  not found      daily        btm  ...       not found   \n",
      "\n",
      "        publisher                  trxid      pixel    handset    browser  \\\n",
      "0       not found   2.02309130707494e+19  not found  not found  not found   \n",
      "1       not found   2.02309130707243e+19  not found  not found  not found   \n",
      "2       not found   2.02308251402057e+19  not found  not found  not found   \n",
      "3            star   2.02309130710521e+19       star  not found  not found   \n",
      "4       not found   2.02309130701156e+19  not found  not found  not found   \n",
      "...           ...                    ...        ...        ...        ...   \n",
      "365609  not found              not found  not found  not found  not found   \n",
      "365610  not found             2,0231E+19  not found  not found  not found   \n",
      "365611  not found  ad25621@CPE6:BFHi9IBe  not found  not found  not found   \n",
      "365612  not found              not found  not found  not found  not found   \n",
      "365613  not found              not found  not found  not found  not found   \n",
      "\n",
      "        attempt_charging success_billing converted_service_price  \\\n",
      "0                     15               0                 2647.38   \n",
      "1                     15               0                 2647.38   \n",
      "2                      1               1                 2647.38   \n",
      "3                      5               0                 2647.38   \n",
      "4                     15               0                 2647.38   \n",
      "...                  ...             ...                     ...   \n",
      "365609                 0               0                 2647.38   \n",
      "365610                35               0                 2647.38   \n",
      "365611               112              14                    0.00   \n",
      "365612                 0               0                 2647.38   \n",
      "365613                 0               0                    0.00   \n",
      "\n",
      "       converted_revenue  \n",
      "0                   0.00  \n",
      "1                   0.00  \n",
      "2                2647.38  \n",
      "3                   0.00  \n",
      "4                   0.00  \n",
      "...                  ...  \n",
      "365609              0.00  \n",
      "365610              0.00  \n",
      "365611              0.00  \n",
      "365612              0.00  \n",
      "365613              0.00  \n",
      "\n",
      "[365614 rows x 28 columns]\n",
      "   service_price currency  converted_service_price  revenue  converted_revenue\n",
      "0            6.0     bath                  2647.38      0.0               0.00\n",
      "1            6.0     bath                  2647.38      0.0               0.00\n",
      "2            6.0     bath                  2647.38      6.0            2647.38\n",
      "3            6.0     bath                  2647.38      0.0               0.00\n",
      "4            6.0     bath                  2647.38      0.0               0.00\n"
     ]
    }
   ],
   "source": [
    "# Mapping dictionary for currency conversion\n",
    "currency_mapping = {'bath': 441.23, 'cfa franc': 25.21040, 'lak': 0.75, 'kip': 0.75, 'rial': 4143.17, 'idr': 1, 'baisa': 4143.17, 'php': 279.48, 'baht':  449.06}\n",
    "\n",
    "# Conversion function\n",
    "def convert_to_rupiah(value, currency):\n",
    "    conversion_rate = currency_mapping.get(currency, 1)\n",
    "    return value * conversion_rate\n",
    "\n",
    "# Apply the conversion to 'service_price' column and create a new column 'converted_service_price'\n",
    "df['converted_service_price'] = df.apply(lambda row: convert_to_rupiah(row['service_price'], row['currency']), axis=1)\n",
    "\n",
    "# Apply the conversion to 'revenue' column and create a new column 'converted_revenue'\n",
    "df['converted_revenue'] = df.apply(lambda row: convert_to_rupiah(row['revenue'], row['currency']), axis=1)\n",
    "\n",
    "# Display the updated DataFrame with new columns\n",
    "print(df)\n",
    "# Display the specific rows with the new columns\n",
    "print(df[['service_price', 'currency', 'converted_service_price', 'revenue', 'converted_revenue']].head())"
   ]
  },
  {
   "cell_type": "markdown",
   "metadata": {},
   "source": [
    "# Cross-Sell"
   ]
  },
  {
   "cell_type": "code",
   "execution_count": 5,
   "metadata": {},
   "outputs": [],
   "source": [
    "# Sort data by ID and Service Price\n",
    "df.sort_values(by=['id', 'subs_date'], inplace=True)\n",
    "\n",
    "# Create the label by grouping transactions by user ID and identify cross-sell events based on different service\n",
    "df['cross_sell'] = (df['service_price'].lt(df.groupby('id')['service_price'].shift())) | \\\n",
    "                    df['service'].ne(df.groupby('id')['service'].shift()) & \\\n",
    "                    (df['profile_status'] == 'active')\n",
    "                    \n",
    "# Fill NaN values in the first row after sorting\n",
    "df['cross_sell'].fillna(False, inplace=True)"
   ]
  },
  {
   "cell_type": "code",
   "execution_count": 6,
   "metadata": {},
   "outputs": [
    {
     "data": {
      "text/plain": [
       "cross_sell\n",
       "True     308288\n",
       "False     57326\n",
       "Name: count, dtype: int64"
      ]
     },
     "execution_count": 6,
     "metadata": {},
     "output_type": "execute_result"
    }
   ],
   "source": [
    "df['cross_sell'].value_counts()"
   ]
  },
  {
   "cell_type": "code",
   "execution_count": 7,
   "metadata": {},
   "outputs": [],
   "source": [
    "# Filter the DataFrame to include only rows where 'up_sell' is True\n",
    "df_crosssell_true = df[df['cross_sell'] == True]"
   ]
  },
  {
   "cell_type": "code",
   "execution_count": 77,
   "metadata": {},
   "outputs": [
    {
     "data": {
      "text/html": [
       "<div>\n",
       "<style scoped>\n",
       "    .dataframe tbody tr th:only-of-type {\n",
       "        vertical-align: middle;\n",
       "    }\n",
       "\n",
       "    .dataframe tbody tr th {\n",
       "        vertical-align: top;\n",
       "    }\n",
       "\n",
       "    .dataframe thead th {\n",
       "        text-align: right;\n",
       "    }\n",
       "</style>\n",
       "<table border=\"1\" class=\"dataframe\">\n",
       "  <thead>\n",
       "    <tr style=\"text-align: right;\">\n",
       "      <th></th>\n",
       "      <th>id</th>\n",
       "      <th>revenue</th>\n",
       "      <th>service_price</th>\n",
       "      <th>attempt_charging</th>\n",
       "      <th>success_billing</th>\n",
       "      <th>converted_service_price</th>\n",
       "      <th>converted_revenue</th>\n",
       "    </tr>\n",
       "  </thead>\n",
       "  <tbody>\n",
       "    <tr>\n",
       "      <th>count</th>\n",
       "      <td>3.082880e+05</td>\n",
       "      <td>308288.000000</td>\n",
       "      <td>308288.000000</td>\n",
       "      <td>308288.000000</td>\n",
       "      <td>308288.000000</td>\n",
       "      <td>3.082880e+05</td>\n",
       "      <td>3.082880e+05</td>\n",
       "    </tr>\n",
       "    <tr>\n",
       "      <th>mean</th>\n",
       "      <td>6.675827e+05</td>\n",
       "      <td>4514.697134</td>\n",
       "      <td>81.448671</td>\n",
       "      <td>19.678216</td>\n",
       "      <td>2.785162</td>\n",
       "      <td>2.035453e+04</td>\n",
       "      <td>1.801329e+05</td>\n",
       "    </tr>\n",
       "    <tr>\n",
       "      <th>std</th>\n",
       "      <td>3.237222e+06</td>\n",
       "      <td>15343.271568</td>\n",
       "      <td>635.810649</td>\n",
       "      <td>26.746530</td>\n",
       "      <td>11.325157</td>\n",
       "      <td>1.487719e+05</td>\n",
       "      <td>4.895014e+06</td>\n",
       "    </tr>\n",
       "    <tr>\n",
       "      <th>min</th>\n",
       "      <td>1.000000e+00</td>\n",
       "      <td>0.000000</td>\n",
       "      <td>0.000000</td>\n",
       "      <td>0.000000</td>\n",
       "      <td>0.000000</td>\n",
       "      <td>0.000000e+00</td>\n",
       "      <td>0.000000e+00</td>\n",
       "    </tr>\n",
       "    <tr>\n",
       "      <th>25%</th>\n",
       "      <td>8.002475e+04</td>\n",
       "      <td>0.000000</td>\n",
       "      <td>0.000000</td>\n",
       "      <td>0.000000</td>\n",
       "      <td>0.000000</td>\n",
       "      <td>0.000000e+00</td>\n",
       "      <td>0.000000e+00</td>\n",
       "    </tr>\n",
       "    <tr>\n",
       "      <th>50%</th>\n",
       "      <td>2.144625e+05</td>\n",
       "      <td>0.000000</td>\n",
       "      <td>6.000000</td>\n",
       "      <td>15.000000</td>\n",
       "      <td>0.000000</td>\n",
       "      <td>2.647380e+03</td>\n",
       "      <td>0.000000e+00</td>\n",
       "    </tr>\n",
       "    <tr>\n",
       "      <th>75%</th>\n",
       "      <td>3.583570e+05</td>\n",
       "      <td>6.000000</td>\n",
       "      <td>6.000000</td>\n",
       "      <td>26.000000</td>\n",
       "      <td>0.000000</td>\n",
       "      <td>2.647380e+03</td>\n",
       "      <td>1.500000e+03</td>\n",
       "    </tr>\n",
       "    <tr>\n",
       "      <th>max</th>\n",
       "      <td>6.008518e+07</td>\n",
       "      <td>506000.000000</td>\n",
       "      <td>10000.000000</td>\n",
       "      <td>4015.000000</td>\n",
       "      <td>1363.000000</td>\n",
       "      <td>1.242951e+06</td>\n",
       "      <td>5.742434e+08</td>\n",
       "    </tr>\n",
       "  </tbody>\n",
       "</table>\n",
       "</div>"
      ],
      "text/plain": [
       "                 id        revenue  service_price  attempt_charging  \\\n",
       "count  3.082880e+05  308288.000000  308288.000000     308288.000000   \n",
       "mean   6.675827e+05    4514.697134      81.448671         19.678216   \n",
       "std    3.237222e+06   15343.271568     635.810649         26.746530   \n",
       "min    1.000000e+00       0.000000       0.000000          0.000000   \n",
       "25%    8.002475e+04       0.000000       0.000000          0.000000   \n",
       "50%    2.144625e+05       0.000000       6.000000         15.000000   \n",
       "75%    3.583570e+05       6.000000       6.000000         26.000000   \n",
       "max    6.008518e+07  506000.000000   10000.000000       4015.000000   \n",
       "\n",
       "       success_billing  converted_service_price  converted_revenue  \n",
       "count    308288.000000             3.082880e+05       3.082880e+05  \n",
       "mean          2.785162             2.035453e+04       1.801329e+05  \n",
       "std          11.325157             1.487719e+05       4.895014e+06  \n",
       "min           0.000000             0.000000e+00       0.000000e+00  \n",
       "25%           0.000000             0.000000e+00       0.000000e+00  \n",
       "50%           0.000000             2.647380e+03       0.000000e+00  \n",
       "75%           0.000000             2.647380e+03       1.500000e+03  \n",
       "max        1363.000000             1.242951e+06       5.742434e+08  "
      ]
     },
     "execution_count": 77,
     "metadata": {},
     "output_type": "execute_result"
    }
   ],
   "source": [
    "df_crosssell_true.describe()"
   ]
  },
  {
   "cell_type": "code",
   "execution_count": 8,
   "metadata": {},
   "outputs": [],
   "source": [
    "revenue = df.revenue"
   ]
  },
  {
   "cell_type": "code",
   "execution_count": 9,
   "metadata": {},
   "outputs": [
    {
     "name": "stdout",
     "output_type": "stream",
     "text": [
      "4351.89579720689\n"
     ]
    }
   ],
   "source": [
    "revenue_mean = revenue.mean()\n",
    "print(revenue_mean)"
   ]
  },
  {
   "cell_type": "code",
   "execution_count": 10,
   "metadata": {},
   "outputs": [
    {
     "data": {
      "text/plain": [
       "SignificanceResult(statistic=288786484.8566333, pvalue=0.0)"
      ]
     },
     "execution_count": 10,
     "metadata": {},
     "output_type": "execute_result"
    }
   ],
   "source": [
    "stats.jarque_bera(df['revenue'])"
   ]
  },
  {
   "cell_type": "markdown",
   "metadata": {},
   "source": [
    "One-Sample T-Test"
   ]
  },
  {
   "cell_type": "code",
   "execution_count": 11,
   "metadata": {},
   "outputs": [
    {
     "name": "stdout",
     "output_type": "stream",
     "text": [
      "P-Value: 3.83339424520665e-09\n",
      "Sufficient evidence to reject H0\n"
     ]
    }
   ],
   "source": [
    "t_statistic, pvalue = stats.ttest_1samp(df_crosssell_true['revenue'], revenue_mean)\n",
    "\n",
    "print('P-Value: ' + str(pvalue))\n",
    "if pvalue < 0.05:\n",
    "    print('Sufficient evidence to reject H0')\n",
    "else:\n",
    "    print('Insufficient evidence to reject H0')\n"
   ]
  },
  {
   "cell_type": "markdown",
   "metadata": {},
   "source": [
    "Because the pvalue is smaller than 0.05, H1 is accepted, namely the cross-sell strategies have significant effects on the revenue data."
   ]
  },
  {
   "cell_type": "markdown",
   "metadata": {},
   "source": [
    "# Upsell"
   ]
  },
  {
   "cell_type": "code",
   "execution_count": 12,
   "metadata": {},
   "outputs": [],
   "source": [
    "# Sort data by ID and Service Price\n",
    "df.sort_values(by=['id', 'service_price'], inplace=True)\n",
    "\n",
    "# Create the label by grouping transactions by user ID and identify cross-sell events based on different service\n",
    "df['up_sell'] = df['service_price'].gt(df.groupby('id')['service_price'].shift()) & \\\n",
    "                (df['profile_status'] == 'active')\n",
    "\n",
    "# Fill NaN values in the first row after sorting\n",
    "df['up_sell'].fillna(False, inplace=True)"
   ]
  },
  {
   "cell_type": "code",
   "execution_count": 13,
   "metadata": {},
   "outputs": [
    {
     "data": {
      "text/plain": [
       "up_sell\n",
       "False    323365\n",
       "True      42249\n",
       "Name: count, dtype: int64"
      ]
     },
     "execution_count": 13,
     "metadata": {},
     "output_type": "execute_result"
    }
   ],
   "source": [
    "df['up_sell'].value_counts()"
   ]
  },
  {
   "cell_type": "code",
   "execution_count": 14,
   "metadata": {},
   "outputs": [],
   "source": [
    "# Filter the DataFrame to include only rows where 'up_sell' is True\n",
    "df_upsell_true = df[df['up_sell'] == True]"
   ]
  },
  {
   "cell_type": "code",
   "execution_count": 76,
   "metadata": {},
   "outputs": [
    {
     "data": {
      "text/html": [
       "<div>\n",
       "<style scoped>\n",
       "    .dataframe tbody tr th:only-of-type {\n",
       "        vertical-align: middle;\n",
       "    }\n",
       "\n",
       "    .dataframe tbody tr th {\n",
       "        vertical-align: top;\n",
       "    }\n",
       "\n",
       "    .dataframe thead th {\n",
       "        text-align: right;\n",
       "    }\n",
       "</style>\n",
       "<table border=\"1\" class=\"dataframe\">\n",
       "  <thead>\n",
       "    <tr style=\"text-align: right;\">\n",
       "      <th></th>\n",
       "      <th>id</th>\n",
       "      <th>revenue</th>\n",
       "      <th>service_price</th>\n",
       "      <th>attempt_charging</th>\n",
       "      <th>success_billing</th>\n",
       "      <th>converted_service_price</th>\n",
       "      <th>converted_revenue</th>\n",
       "    </tr>\n",
       "  </thead>\n",
       "  <tbody>\n",
       "    <tr>\n",
       "      <th>count</th>\n",
       "      <td>4.224900e+04</td>\n",
       "      <td>42249.000000</td>\n",
       "      <td>42249.000000</td>\n",
       "      <td>42249.000000</td>\n",
       "      <td>42249.000000</td>\n",
       "      <td>4.224900e+04</td>\n",
       "      <td>4.224900e+04</td>\n",
       "    </tr>\n",
       "    <tr>\n",
       "      <th>mean</th>\n",
       "      <td>2.180689e+05</td>\n",
       "      <td>3900.395086</td>\n",
       "      <td>381.510379</td>\n",
       "      <td>27.864470</td>\n",
       "      <td>3.159743</td>\n",
       "      <td>7.058632e+04</td>\n",
       "      <td>5.802264e+05</td>\n",
       "    </tr>\n",
       "    <tr>\n",
       "      <th>std</th>\n",
       "      <td>1.658444e+05</td>\n",
       "      <td>16307.195401</td>\n",
       "      <td>1551.728036</td>\n",
       "      <td>60.322322</td>\n",
       "      <td>13.776219</td>\n",
       "      <td>2.800903e+05</td>\n",
       "      <td>8.069967e+06</td>\n",
       "    </tr>\n",
       "    <tr>\n",
       "      <th>min</th>\n",
       "      <td>4.000000e+00</td>\n",
       "      <td>0.000000</td>\n",
       "      <td>6.000000</td>\n",
       "      <td>0.000000</td>\n",
       "      <td>0.000000</td>\n",
       "      <td>7.500000e+02</td>\n",
       "      <td>0.000000e+00</td>\n",
       "    </tr>\n",
       "    <tr>\n",
       "      <th>25%</th>\n",
       "      <td>6.369200e+04</td>\n",
       "      <td>0.000000</td>\n",
       "      <td>6.000000</td>\n",
       "      <td>0.000000</td>\n",
       "      <td>0.000000</td>\n",
       "      <td>2.647380e+03</td>\n",
       "      <td>0.000000e+00</td>\n",
       "    </tr>\n",
       "    <tr>\n",
       "      <th>50%</th>\n",
       "      <td>1.768880e+05</td>\n",
       "      <td>0.000000</td>\n",
       "      <td>6.000000</td>\n",
       "      <td>15.000000</td>\n",
       "      <td>0.000000</td>\n",
       "      <td>2.647380e+03</td>\n",
       "      <td>0.000000e+00</td>\n",
       "    </tr>\n",
       "    <tr>\n",
       "      <th>75%</th>\n",
       "      <td>3.823370e+05</td>\n",
       "      <td>0.000000</td>\n",
       "      <td>6.000000</td>\n",
       "      <td>15.000000</td>\n",
       "      <td>0.000000</td>\n",
       "      <td>2.647380e+03</td>\n",
       "      <td>0.000000e+00</td>\n",
       "    </tr>\n",
       "    <tr>\n",
       "      <th>max</th>\n",
       "      <td>4.781612e+06</td>\n",
       "      <td>358000.000000</td>\n",
       "      <td>10000.000000</td>\n",
       "      <td>561.000000</td>\n",
       "      <td>556.000000</td>\n",
       "      <td>1.242951e+06</td>\n",
       "      <td>5.742434e+08</td>\n",
       "    </tr>\n",
       "  </tbody>\n",
       "</table>\n",
       "</div>"
      ],
      "text/plain": [
       "                 id        revenue  service_price  attempt_charging  \\\n",
       "count  4.224900e+04   42249.000000   42249.000000      42249.000000   \n",
       "mean   2.180689e+05    3900.395086     381.510379         27.864470   \n",
       "std    1.658444e+05   16307.195401    1551.728036         60.322322   \n",
       "min    4.000000e+00       0.000000       6.000000          0.000000   \n",
       "25%    6.369200e+04       0.000000       6.000000          0.000000   \n",
       "50%    1.768880e+05       0.000000       6.000000         15.000000   \n",
       "75%    3.823370e+05       0.000000       6.000000         15.000000   \n",
       "max    4.781612e+06  358000.000000   10000.000000        561.000000   \n",
       "\n",
       "       success_billing  converted_service_price  converted_revenue  \n",
       "count     42249.000000             4.224900e+04       4.224900e+04  \n",
       "mean          3.159743             7.058632e+04       5.802264e+05  \n",
       "std          13.776219             2.800903e+05       8.069967e+06  \n",
       "min           0.000000             7.500000e+02       0.000000e+00  \n",
       "25%           0.000000             2.647380e+03       0.000000e+00  \n",
       "50%           0.000000             2.647380e+03       0.000000e+00  \n",
       "75%           0.000000             2.647380e+03       0.000000e+00  \n",
       "max         556.000000             1.242951e+06       5.742434e+08  "
      ]
     },
     "execution_count": 76,
     "metadata": {},
     "output_type": "execute_result"
    }
   ],
   "source": [
    "df_upsell_true.describe()"
   ]
  },
  {
   "cell_type": "code",
   "execution_count": 15,
   "metadata": {},
   "outputs": [],
   "source": [
    "revenue = df.revenue"
   ]
  },
  {
   "cell_type": "code",
   "execution_count": 16,
   "metadata": {},
   "outputs": [
    {
     "name": "stdout",
     "output_type": "stream",
     "text": [
      "4351.89579720689\n"
     ]
    }
   ],
   "source": [
    "revenue_mean = revenue.mean()\n",
    "print(revenue_mean)"
   ]
  },
  {
   "cell_type": "code",
   "execution_count": 17,
   "metadata": {},
   "outputs": [
    {
     "data": {
      "text/plain": [
       "SignificanceResult(statistic=288786484.8566329, pvalue=0.0)"
      ]
     },
     "execution_count": 17,
     "metadata": {},
     "output_type": "execute_result"
    }
   ],
   "source": [
    "stats.jarque_bera(df['revenue'])"
   ]
  },
  {
   "cell_type": "markdown",
   "metadata": {},
   "source": [
    "One-Sample T-Test"
   ]
  },
  {
   "cell_type": "code",
   "execution_count": 18,
   "metadata": {},
   "outputs": [
    {
     "name": "stdout",
     "output_type": "stream",
     "text": [
      "P-Value: 1.2714333576870448e-08\n",
      "Sufficient evidence to reject H0\n"
     ]
    }
   ],
   "source": [
    "# Perform a one-sample t-test on the 'revenue' column of df_upsell_true\n",
    "t_statistic, pvalue = stats.ttest_1samp(df_upsell_true['revenue'], revenue_mean)\n",
    "\n",
    "# Print the calculated p-value\n",
    "print('P-Value: ' + str(pvalue))\n",
    "if pvalue < 0.05:\n",
    "    print('Sufficient evidence to reject H0')\n",
    "else:\n",
    "    print('Insufficient evidence to reject H0')\n"
   ]
  },
  {
   "cell_type": "markdown",
   "metadata": {},
   "source": [
    "Because the pvalue is smaller than 0.05, H1 is accepted, namely the upsell strategies have significant effects on the revenue data."
   ]
  },
  {
   "cell_type": "markdown",
   "metadata": {},
   "source": [
    "# Independent T-Test"
   ]
  },
  {
   "cell_type": "code",
   "execution_count": 20,
   "metadata": {},
   "outputs": [
    {
     "name": "stdout",
     "output_type": "stream",
     "text": [
      "T-Statistic: -7.658048491763023\n",
      "P-Value: 1.892588990695219e-14\n",
      "There is a significant difference between the mean revenues of the two datasets.\n"
     ]
    }
   ],
   "source": [
    "# Calculate t-statistics for mean revenue comparison\n",
    "t_statistic, p_value = stats.ttest_ind(df_upsell_true['revenue'], df_crosssell_true['revenue'])\n",
    "\n",
    "# Display the t-statistic and p-value\n",
    "print(\"T-Statistic:\", t_statistic)\n",
    "print(\"P-Value:\", p_value)\n",
    "\n",
    "# Compare p-value against significance level (e.g., 0.05)\n",
    "alpha = 0.05\n",
    "if p_value < alpha:\n",
    "    print(\"There is a significant difference between the mean revenues of the two datasets.\")\n",
    "else:\n",
    "    print(\"There is no significant difference between the mean revenues of the two datasets.\")"
   ]
  }
 ],
 "metadata": {
  "kernelspec": {
   "display_name": "Python 3",
   "language": "python",
   "name": "python3"
  },
  "language_info": {
   "codemirror_mode": {
    "name": "ipython",
    "version": 3
   },
   "file_extension": ".py",
   "mimetype": "text/x-python",
   "name": "python",
   "nbconvert_exporter": "python",
   "pygments_lexer": "ipython3",
   "version": "3.10.7"
  }
 },
 "nbformat": 4,
 "nbformat_minor": 2
}
